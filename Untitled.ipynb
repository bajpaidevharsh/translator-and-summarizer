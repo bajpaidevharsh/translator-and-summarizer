{
 "cells": [
  {
   "cell_type": "code",
   "execution_count": 18,
   "id": "9e3b4022-991e-4dae-a6ae-f6afcb53c21c",
   "metadata": {},
   "outputs": [],
   "source": [
    "import time\n",
    "\n",
    "def translate(mm,a):\n",
    "    from transformers import MarianMTModel, MarianTokenizer\n",
    "    model_name = (\"Helsinki-NLP/opus-mt-en-%s\"%mm)\n",
    "    tokenizer = MarianTokenizer.from_pretrained(model_name)\n",
    "    model = MarianMTModel.from_pretrained(model_name)\n",
    "    english_text = a\n",
    "\n",
    "    inputs = tokenizer(english_text, return_tensors=\"pt\")\n",
    "\n",
    "    translated_text = model.generate(**inputs)\n",
    "\n",
    "    decoded_translation = tokenizer.decode(translated_text[0], skip_special_tokens=True)\n",
    "\n",
    "    print(\"Eng:\", english_text)\n",
    "    print(\"%s:\"%mm, decoded_translation)\n",
    "def translate_voice(mm,a):\n",
    "    from transformers import MarianMTModel, MarianTokenizer\n",
    "    model_name = (\"Helsinki-NLP/opus-mt-en-%s\"%mm)\n",
    "    tokenizer = MarianTokenizer.from_pretrained(model_name)\n",
    "    model = MarianMTModel.from_pretrained(model_name)\n",
    "    english_text = a\n",
    "\n",
    "    inputs = tokenizer(english_text, return_tensors=\"pt\")\n",
    "\n",
    "    translated_text = model.generate(**inputs)\n",
    "\n",
    "    decoded_translation = tokenizer.decode(translated_text[0], skip_special_tokens=True)\n",
    "    from gtts import gTTS\n",
    "    import os\n",
    "    time.sleep(1)\n",
    "    text = decoded_translation\n",
    "    language = mm\n",
    "    tts = gTTS(text=text, lang=language, slow=False)\n",
    "    tts.save(\"output.mp3\")\n",
    "    os.system(\"start output.mp3\")\n",
    "\n",
    "def summary2(text):\n",
    "    import nltk\n",
    "    nltk.download('punkt')\n",
    "    from sumy.parsers.plaintext import PlaintextParser\n",
    "    from sumy.nlp.tokenizers import Tokenizer\n",
    "    from sumy.summarizers.lsa import LsaSummarizer\n",
    "    input_text = text\n",
    "    parser = PlaintextParser.from_string(input_text, Tokenizer(\"english\"))\n",
    "    summarizer = LsaSummarizer()\n",
    "    summary = summarizer(parser.document, sentences_count=2)\n",
    "    return summary"
   ]
  },
  {
   "cell_type": "code",
   "execution_count": 13,
   "id": "3ec4c3b4-7abe-4e7b-a8df-9ec66247f65e",
   "metadata": {},
   "outputs": [],
   "source": [
    "def calling():\n",
    "        \n",
    "    choice=int(input('''what do you want to do\n",
    "    0 for translate the sentence\n",
    "    1 for translate the sentence and convert it to speech\n",
    "    2 for extract the summary of the text\n",
    "    -'''))\n",
    "    \n",
    "    if choice ==0:\n",
    "        a=input('enter the english-')\n",
    "        b=input('''choose the language to translate\n",
    "        hi for hindi\n",
    "        fr for french\n",
    "        ru for russian\n",
    "        gu for gujarati\n",
    "        te for telgu\n",
    "        ta for tamil\n",
    "        oriya for oriya\n",
    "        ur for urdu\n",
    "        pa for punjabi\n",
    "        ''')\n",
    "        translate(b,a)\n",
    "    elif choice==1:\n",
    "        a=input('enter the english-')\n",
    "        b=input('''choose the language to translate\n",
    "        hi for hindi\n",
    "        fr for french\n",
    "        ru for russian\n",
    "        gu for gujarati\n",
    "        te for telgu\n",
    "        ta for tamil\n",
    "        oriya for oriya\n",
    "        ur for urdu\n",
    "        pa for punjabi\n",
    "        ''')\n",
    "        translate_voice(b,a)\n",
    "    elif choice==2:\n",
    "        kk=input('enter the text for sumarization')\n",
    "        y=summary2(kk)\n",
    "        print(y)\n",
    "    else:\n",
    "        print('invalid choice')"
   ]
  },
  {
   "cell_type": "code",
   "execution_count": 14,
   "id": "157de256-247e-4b22-b1f6-d05a38584eb3",
   "metadata": {},
   "outputs": [
    {
     "name": "stdin",
     "output_type": "stream",
     "text": [
      "what do you want to do\n",
      "    0 for translate the sentence\n",
      "    1 for translate the sentence and convert it to speech\n",
      "    2 for extract the summary of the text\n",
      "    - 0\n",
      "enter the english- hi how are you are you fine\n",
      "choose the language to translate\n",
      "        hi for hindi\n",
      "        fr for french\n",
      "        ru for russian\n",
      "        gu for gujarati\n",
      "        te for telgu\n",
      "        ta for tamil\n",
      "        oriya for oriya\n",
      "        ur for urdu\n",
      "        pa for punjabi\n",
      "         hi\n"
     ]
    },
    {
     "name": "stderr",
     "output_type": "stream",
     "text": [
      "C:\\Users\\DEV HARSH BAJPAI\\AppData\\Local\\Programs\\Python\\Python310\\lib\\site-packages\\transformers\\models\\marian\\tokenization_marian.py:197: UserWarning: Recommended: pip install sacremoses.\n",
      "  warnings.warn(\"Recommended: pip install sacremoses.\")\n"
     ]
    },
    {
     "name": "stdout",
     "output_type": "stream",
     "text": [
      "Eng: hi how are you are you fine\n",
      "hi: हाय तुम कैसे ठीक हो\n"
     ]
    }
   ],
   "source": [
    "calling()"
   ]
  },
  {
   "cell_type": "code",
   "execution_count": 16,
   "id": "688a7882-b579-487d-8087-096c60966560",
   "metadata": {},
   "outputs": [
    {
     "name": "stdin",
     "output_type": "stream",
     "text": [
      "what do you want to do\n",
      "    0 for translate the sentence\n",
      "    1 for translate the sentence and convert it to speech\n",
      "    2 for extract the summary of the text\n",
      "    - 1\n",
      "enter the english- hi how are you\n",
      "choose the language to translate\n",
      "        hi for hindi\n",
      "        fr for french\n",
      "        ru for russian\n",
      "        gu for gujarati\n",
      "        te for telgu\n",
      "        ta for tamil\n",
      "        oriya for oriya\n",
      "        ur for urdu\n",
      "        pa for punjabi\n",
      "         fr\n"
     ]
    },
    {
     "name": "stderr",
     "output_type": "stream",
     "text": [
      "C:\\Users\\DEV HARSH BAJPAI\\AppData\\Local\\Programs\\Python\\Python310\\lib\\site-packages\\transformers\\models\\marian\\tokenization_marian.py:197: UserWarning: Recommended: pip install sacremoses.\n",
      "  warnings.warn(\"Recommended: pip install sacremoses.\")\n"
     ]
    }
   ],
   "source": [
    "calling()"
   ]
  },
  {
   "cell_type": "code",
   "execution_count": 19,
   "id": "8b43323d-6200-47e5-99be-0573ef4399f6",
   "metadata": {},
   "outputs": [
    {
     "name": "stdin",
     "output_type": "stream",
     "text": [
      "what do you want to do\n",
      "    0 for translate the sentence\n",
      "    1 for translate the sentence and convert it to speech\n",
      "    2 for extract the summary of the text\n",
      "    - 2\n",
      "enter the text for sumarization Napoleon Bonaparte (born Napoleone di Buonaparte;[1][b] 15 August 1769 – 5 May 1821), later known by his regnal name Napoleon I, was a French military and political leader who rose to prominence during the French Revolution and led a series of successful campaigns across Europe during the Revolutionary Wars and Napoleonic Wars from 1796 to 1815. He was the leader of the French Republic as First Consul from 1799 to 1804, then of the French Empire as Emperor of the French from 1804 to 1814, and briefly again in 1815.  Born on the island of Corsica to a family of Italian origin, Napoleon moved to mainland France in 1779 and was commissioned as an officer in the French Army in 1785. He supported the French Revolution in 1789, and promoted its cause in Corsica. He rose rapidly in the ranks after breaking the siege of Toulon in 1793 and firing on royalist insurgents in Paris on 13 Vendémiaire in 1795. In 1796, Napoleon commanded a military campaign against the Austrians and their Italian allies in the War of the First Coalition, scoring decisive victories and becoming a national hero. He led an expedition to Egypt and Syria in 1798 which served as a springboard to political power. In November 1799, Napoleon engineered the Coup of 18 Brumaire against the Directory, and became First Consul of the Republic. He won the Battle of Marengo in 1800, which secured French victory in the War of the Second Coalition, and in 1803 sold the territory of Louisiana to the United States, which doubled the latter's area. In December 1804, Napoleon crowned himself Emperor of the French, further expanding his power.  The breakdown of the Treaty of Amiens led to the War of the Third Coalition by 1805. Napoleon shattered the coalition with a decisive victory at the Battle of Austerlitz, which led to the dissolution of the Holy Roman Empire. In the War of the Fourth Coalition, Napoleon defeated Prussia at the Battle of Jena–Auerstedt in 1806, marched his Grande Armée into Eastern Europe, and defeated the Russians in 1807 at the Battle of Friedland. Seeking to extend his trade embargo against Britain, Napoleon invaded the Iberian Peninsula and installed his brother Joseph as King of Spain in 1808, provoking the Peninsular War, mainly fought by his marshals until 1814. In 1809, the Austrians again challenged France in the War of the Fifth Coalition, in which Napoleon solidified his grip over Europe after winning the Battle of Wagram. In summer 1812, Napoleon launched an invasion of Russia, which ended in the catastrophic retreat of his army that winter. In 1813, Prussia and Austria joined Russia in the War of the Sixth Coalition, in which Napoleon was decisively defeated at the Battle of Leipzig. The coalition invaded France and captured Paris, forcing Napoleon to abdicate in April 1814. They exiled him to the Mediterranean island of Elba and restored the Bourbons to power. In February 1815, Napoleon escaped from Elba and again took control of France in what became known as the \"Hundred Days\". His opponents responded by forming a Seventh Coalition, which defeated him at the Battle of Waterloo in June 1815. Napoleon was exiled to the remote island of Saint Helena in the South Atlantic, where he died of stomach cancer in 1821, aged 51.\n",
      "enter the minimum number of words 25\n",
      "enter the maximum number of words 45\n"
     ]
    },
    {
     "name": "stdout",
     "output_type": "stream",
     "text": [
      "(<Sentence: In December 1804, Napoleon crowned himself Emperor of the French, further expanding his power.>, <Sentence: His opponents responded by forming a Seventh Coalition, which defeated him at the Battle of Waterloo in June 1815.>)\n"
     ]
    },
    {
     "name": "stderr",
     "output_type": "stream",
     "text": [
      "[nltk_data] Downloading package punkt to C:\\Users\\DEV HARSH\n",
      "[nltk_data]     BAJPAI\\AppData\\Roaming\\nltk_data...\n",
      "[nltk_data]   Package punkt is already up-to-date!\n"
     ]
    }
   ],
   "source": [
    "calling()"
   ]
  }
 ],
 "metadata": {
  "kernelspec": {
   "display_name": "Python 3 (ipykernel)",
   "language": "python",
   "name": "python3"
  },
  "language_info": {
   "codemirror_mode": {
    "name": "ipython",
    "version": 3
   },
   "file_extension": ".py",
   "mimetype": "text/x-python",
   "name": "python",
   "nbconvert_exporter": "python",
   "pygments_lexer": "ipython3",
   "version": "3.10.11"
  }
 },
 "nbformat": 4,
 "nbformat_minor": 5
}
